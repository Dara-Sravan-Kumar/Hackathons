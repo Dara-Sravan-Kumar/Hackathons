{
  "nbformat": 4,
  "nbformat_minor": 0,
  "metadata": {
    "accelerator": "GPU",
    "colab": {
      "name": "Case Study-1.ipynb",
      "provenance": [],
      "collapsed_sections": []
    },
    "kernelspec": {
      "display_name": "Python 3",
      "name": "python3"
    },
    "language_info": {
      "name": "python"
    }
  },
  "cells": [
    {
      "cell_type": "markdown",
      "metadata": {
        "id": "LwYilCcD539I"
      },
      "source": [
        "# **Loading Required Libraries**"
      ]
    },
    {
      "cell_type": "code",
      "metadata": {
        "id": "88mmpfccwCBu"
      },
      "source": [
        "import numpy as np\n",
        "import pathlib\n",
        "import tensorflow as tf\n",
        "import matplotlib.pyplot as plt\n",
        "import tensorflow_datasets as tfds\n"
      ],
      "execution_count": null,
      "outputs": []
    },
    {
      "cell_type": "markdown",
      "metadata": {
        "id": "kopzzz0b5cSG"
      },
      "source": [
        "# **Task 1:** Read / Resize/ Store  image Dataset\n",
        "\n",
        "* Using Keras Utils\n",
        "* Using Tf.data"
      ]
    },
    {
      "cell_type": "code",
      "metadata": {
        "colab": {
          "base_uri": "https://localhost:8080/"
        },
        "id": "wEZSVdPh5bEd",
        "outputId": "1816fe1a-d244-4012-d242-6db83d6f3127"
      },
      "source": [
        "### Using Keras Utils\n",
        "\n",
        "batch_size = 32\n",
        "img_height = 28\n",
        "img_width = 28\n",
        "AUTOTUNE = tf.data.AUTOTUNE\n",
        "\n",
        "## Data Directory Path\n",
        "(train_ds, val_ds), ds_info = tfds.load('mnist',split=['train', 'test'],shuffle_files=True,as_supervised=True,with_info=True)\n",
        "\n",
        "print(ds_info)"
      ],
      "execution_count": null,
      "outputs": [
        {
          "name": "stdout",
          "output_type": "stream",
          "text": [
            "tfds.core.DatasetInfo(\n",
            "    name='mnist',\n",
            "    version=3.0.1,\n",
            "    description='The MNIST database of handwritten digits.',\n",
            "    homepage='http://yann.lecun.com/exdb/mnist/',\n",
            "    features=FeaturesDict({\n",
            "        'image': Image(shape=(28, 28, 1), dtype=tf.uint8),\n",
            "        'label': ClassLabel(shape=(), dtype=tf.int64, num_classes=10),\n",
            "    }),\n",
            "    total_num_examples=70000,\n",
            "    splits={\n",
            "        'test': 10000,\n",
            "        'train': 60000,\n",
            "    },\n",
            "    supervised_keys=('image', 'label'),\n",
            "    citation=\"\"\"@article{lecun2010mnist,\n",
            "      title={MNIST handwritten digit database},\n",
            "      author={LeCun, Yann and Cortes, Corinna and Burges, CJ},\n",
            "      journal={ATT Labs [Online]. Available: http://yann.lecun.com/exdb/mnist},\n",
            "      volume={2},\n",
            "      year={2010}\n",
            "    }\"\"\",\n",
            "    redistribution_info=,\n",
            ")\n",
            "\n"
          ]
        }
      ]
    },
    {
      "cell_type": "code",
      "metadata": {
        "colab": {
          "base_uri": "https://localhost:8080/"
        },
        "id": "Xw6r-7reGzbe",
        "outputId": "bb345c0e-a5f8-430f-a9aa-a11bdef781b1"
      },
      "source": [
        "vals = np.unique(np.fromiter(train_ds.map(lambda x, y: y), float), return_counts=True)\n",
        "\n",
        "for val, count in zip(*vals):\n",
        "    print(int(val), count)"
      ],
      "execution_count": null,
      "outputs": [
        {
          "name": "stdout",
          "output_type": "stream",
          "text": [
            "0 5923\n",
            "1 6742\n",
            "2 5958\n",
            "3 6131\n",
            "4 5842\n",
            "5 5421\n",
            "6 5918\n",
            "7 6265\n",
            "8 5851\n",
            "9 5949\n"
          ]
        }
      ]
    },
    {
      "cell_type": "code",
      "metadata": {
        "colab": {
          "base_uri": "https://localhost:8080/"
        },
        "id": "BwsWGct2Kbw6",
        "outputId": "f072035a-ce57-4643-b2d0-4c7babea324a"
      },
      "source": [
        "print(\"Total No of Classes:\",ds_info.features[\"label\"].num_classes)\n",
        "print(\"All Class Names:\",ds_info.features[\"label\"].names)\n",
        "\n",
        "# print(ds_info.features)\n",
        "# print(ds_info.features[\"label\"].int2str()) \n",
        "# print(ds_info.features[\"label\"].str2int('7'))"
      ],
      "execution_count": null,
      "outputs": [
        {
          "name": "stdout",
          "output_type": "stream",
          "text": [
            "Total No of Classes: 10\n",
            "All Class Names: ['0', '1', '2', '3', '4', '5', '6', '7', '8', '9']\n"
          ]
        }
      ]
    },
    {
      "cell_type": "code",
      "metadata": {
        "colab": {
          "base_uri": "https://localhost:8080/",
          "height": 184
        },
        "id": "xyWpgmBMJAKg",
        "outputId": "0b40a81a-a491-4317-e7d8-734026c4d2a0"
      },
      "source": [
        "tfds.as_dataframe(train_ds.take(4), ds_info)"
      ],
      "execution_count": null,
      "outputs": [
        {
          "data": {
            "text/html": [
              "<style  type=\"text/css\" >\n",
              "</style><table id=\"T_e7265626_431c_11ec_94b0_0242ac1c0002\" ><thead>    <tr>        <th class=\"blank level0\" ></th>        <th class=\"col_heading level0 col0\" >image</th>        <th class=\"col_heading level0 col1\" >label</th>    </tr></thead><tbody>\n",
              "                <tr>\n",
              "                        <th id=\"T_e7265626_431c_11ec_94b0_0242ac1c0002level0_row0\" class=\"row_heading level0 row0\" >0</th>\n",
              "                        <td id=\"T_e7265626_431c_11ec_94b0_0242ac1c0002row0_col0\" class=\"data row0 col0\" ><img src=\"data:image/png;base64,iVBORw0KGgoAAAANSUhEUgAAABwAAAAcCAAAAABXZoBIAAAAzElEQVR4nGNgGPQg5F8qjMmEIRn1XwinRvnvp2QxdTIyMjAwMDDksd17jCnpeN6CgYGBQZfhAhbzLP+WMzAwyPz8IAkXQuh8ycDAwMAQyHr1ORZJYQYGBgYGKYYDDFgkAxgZGBikMxnnISQZYQz2J0KXjwvpqV00+YfpnsS/f//++/v3bxiSGAuMYfp97rN3b1cz7MDiEQgI+bcGmYsatlH/T+PUyPD2jwVOOaOP23Br3P3vZyZOO///v7qGARd4/EkBt7FvbuOWoyIAAPBxN9oBRuu9AAAAAElFTkSuQmCC\" alt=\"Img\" /></td>\n",
              "                        <td id=\"T_e7265626_431c_11ec_94b0_0242ac1c0002row0_col1\" class=\"data row0 col1\" >4</td>\n",
              "            </tr>\n",
              "            <tr>\n",
              "                        <th id=\"T_e7265626_431c_11ec_94b0_0242ac1c0002level0_row1\" class=\"row_heading level0 row1\" >1</th>\n",
              "                        <td id=\"T_e7265626_431c_11ec_94b0_0242ac1c0002row1_col0\" class=\"data row1 col0\" ><img src=\"data:image/png;base64,iVBORw0KGgoAAAANSUhEUgAAABwAAAAcCAAAAABXZoBIAAAAmklEQVR4nGNgGOyAc/5KJlxyjIv+/TPEJan9798HWRgH3YhQBoZHj3HpfP/vVxQuOYF//54ieGjGNjEwXMalkeHbv3+eeCTfseAy1oCVYeofXBp3/f8lgUtO/su/azhtnPLvXwJOycv//uGU0//5bx1OySP//hngkuN5+u8tG4oIkj/VJBmO/8Il6cvAMBunlSIvX3DjlKQmAACHtTHZmy2LVAAAAABJRU5ErkJggg==\" alt=\"Img\" /></td>\n",
              "                        <td id=\"T_e7265626_431c_11ec_94b0_0242ac1c0002row1_col1\" class=\"data row1 col1\" >1</td>\n",
              "            </tr>\n",
              "            <tr>\n",
              "                        <th id=\"T_e7265626_431c_11ec_94b0_0242ac1c0002level0_row2\" class=\"row_heading level0 row2\" >2</th>\n",
              "                        <td id=\"T_e7265626_431c_11ec_94b0_0242ac1c0002row2_col0\" class=\"data row2 col0\" ><img src=\"data:image/png;base64,iVBORw0KGgoAAAANSUhEUgAAABwAAAAcCAAAAABXZoBIAAAA+0lEQVR4nM3QvyuEARzH8feVniSFiTBcKf8A85ESNqwkdbeY5NdmY/UXiM0z+Ad0SXZ1g0vJjw0Xi86pc13eD8NleJ47q3zG76tv3x/wJxk+jQ7bf8NldT9obdNl1fWW1nGh6mtLPIm0oJVWlvuIvOvMWx1qtqWa0U2aULNNNnCtT+MQapi0waK6CoR6mcS8Wuhq4Fqj1PZjU5NQnX0DUine433dD1qZBwjOrM/EsVc9AmCj6c5MWT8XADjX2mgMi+otABN1k0/YVncAFu/VLWLbPgNBduRxLBMQHe/FZ+Zs5EtLm8kP9F81MHrZTScNelZK6sFcXzP9o3wDadaKxdoXqEQAAAAASUVORK5CYII=\" alt=\"Img\" /></td>\n",
              "                        <td id=\"T_e7265626_431c_11ec_94b0_0242ac1c0002row2_col1\" class=\"data row2 col1\" >0</td>\n",
              "            </tr>\n",
              "            <tr>\n",
              "                        <th id=\"T_e7265626_431c_11ec_94b0_0242ac1c0002level0_row3\" class=\"row_heading level0 row3\" >3</th>\n",
              "                        <td id=\"T_e7265626_431c_11ec_94b0_0242ac1c0002row3_col0\" class=\"data row3 col0\" ><img src=\"data:image/png;base64,iVBORw0KGgoAAAANSUhEUgAAABwAAAAcCAAAAABXZoBIAAAA40lEQVR4nGNgGJpg//8OdCEWKM2obvgv/++6/zcZnJQebPuNqkjvLxI4IIgiJ3/v79/3b//9/fvv7993f/9NQzE2TZ6hc8J3JwYGBgaGK7cYeJE12n79+1cCxlH9+/cVB5LOlxy/pryHSUYyMO78gSR5W/vzU7gxfAz/cfq36fvfDw445Fr+/P3bg12KMebb37+7WbDKKSz89/fvNRmscjpb//79u0YBq5z0yb9//2bhcEvXv78fs1ixyzX//PsuHYc+gbvwAMcEmX//3kFzJxOc9YCRoesJLp3sx9+p4JIjGQAAnrpmBs0pxioAAAAASUVORK5CYII=\" alt=\"Img\" /></td>\n",
              "                        <td id=\"T_e7265626_431c_11ec_94b0_0242ac1c0002row3_col1\" class=\"data row3 col1\" >7</td>\n",
              "            </tr>\n",
              "    </tbody></table>"
            ],
            "text/plain": [
              "                                               image  label\n",
              "0  [[[0], [0], [0], [0], [0], [0], [0], [0], [0],...      4\n",
              "1  [[[0], [0], [0], [0], [0], [0], [0], [0], [0],...      1\n",
              "2  [[[0], [0], [0], [0], [0], [0], [0], [0], [0],...      0\n",
              "3  [[[0], [0], [0], [0], [0], [0], [0], [0], [0],...      7"
            ]
          },
          "execution_count": 78,
          "metadata": {},
          "output_type": "execute_result"
        }
      ]
    },
    {
      "cell_type": "code",
      "metadata": {
        "colab": {
          "base_uri": "https://localhost:8080/",
          "height": 534
        },
        "id": "bv6xasRNJGmZ",
        "outputId": "43c8d99a-ca57-422e-985b-b8b32c5c2e90"
      },
      "source": [
        "fig = tfds.show_examples(train_ds, ds_info)"
      ],
      "execution_count": null,
      "outputs": [
        {
          "data": {
            "image/png": "[encoded data removed]",
            "text/plain": [
              "<Figure size 648x648 with 9 Axes>"
            ]
          },
          "metadata": {},
          "output_type": "display_data"
        }
      ]
    },
    {
      "cell_type": "markdown",
      "metadata": {
        "id": "JFlT-rjj5WWp"
      },
      "source": [
        "# **Task 2:** Checking Image Generators and Shape of Data Loaded\n",
        "\n"
      ]
    },
    {
      "cell_type": "code",
      "metadata": {
        "colab": {
          "base_uri": "https://localhost:8080/"
        },
        "id": "al_TS1MwXrfd",
        "outputId": "cfd27667-35bb-415d-862b-50a5098f7ed0"
      },
      "source": [
        "# for image, label in tfds.as_numpy(train_ds.take(5)):\n",
        "#   print(type(image), type(label), label)\n",
        "\n",
        "for image, label in train_ds.take(5):\n",
        "  print(image.shape, label)"
      ],
      "execution_count": null,
      "outputs": [
        {
          "name": "stdout",
          "output_type": "stream",
          "text": [
            "(28, 28, 1) tf.Tensor(4, shape=(), dtype=int64)\n",
            "(28, 28, 1) tf.Tensor(1, shape=(), dtype=int64)\n",
            "(28, 28, 1) tf.Tensor(0, shape=(), dtype=int64)\n",
            "(28, 28, 1) tf.Tensor(7, shape=(), dtype=int64)\n",
            "(28, 28, 1) tf.Tensor(8, shape=(), dtype=int64)\n"
          ]
        }
      ]
    },
    {
      "cell_type": "code",
      "metadata": {
        "colab": {
          "base_uri": "https://localhost:8080/"
        },
        "id": "114hLo1e5i5e",
        "outputId": "c23eeb5b-55e4-4061-fb72-b9da4f8a2ab6"
      },
      "source": [
        "# Checking Labels and Image Data with generators \n",
        "\n",
        "image_batch, labels_batch=next(iter(train_ds)) \n",
        "print(labels_batch)\n",
        "\n",
        "## Checking Image Array shape and Labels Shape.\n",
        "\n",
        "for image_batch, labels_batch in train_ds:  \n",
        "  print(\"Images Data Shape:\",image_batch.shape)\n",
        "  # print(\"Image Labels Shape:\",labels_batch.shape)\n",
        "  break\n"
      ],
      "execution_count": null,
      "outputs": [
        {
          "name": "stdout",
          "output_type": "stream",
          "text": [
            "tf.Tensor(4, shape=(), dtype=int64)\n",
            "Images Data Shape: (28, 28, 1)\n"
          ]
        }
      ]
    },
    {
      "cell_type": "markdown",
      "metadata": {
        "id": "tgHzUPzt5jQN"
      },
      "source": [
        "# **Task 3:** Data Augmentation and Normalization\n"
      ]
    },
    {
      "cell_type": "code",
      "metadata": {
        "id": "KLGiwdBhPyYz"
      },
      "source": [
        "# Batching the Training and Test Data\n",
        "\n",
        "train_ds = train_ds.batch(batch_size)\n",
        "val_ds = val_ds.batch(batch_size)"
      ],
      "execution_count": null,
      "outputs": []
    },
    {
      "cell_type": "code",
      "metadata": {
        "colab": {
          "base_uri": "https://localhost:8080/"
        },
        "id": "TSqzgsRy5k_p",
        "outputId": "786bdf76-4f4f-4268-a50e-2a89c5b4b278"
      },
      "source": [
        "resize_and_rescale = tf.keras.Sequential([tf.keras.layers.Resizing(img_height, img_width),tf.keras.layers.Rescaling(1./255)])\n",
        "data_augmentation = tf.keras.Sequential([tf.keras.layers.RandomFlip(\"horizontal\"), tf.keras.layers.RandomRotation(0.1)])\n",
        "\n",
        "train_ds = train_ds.map(lambda x, y: (resize_and_rescale(x), y), num_parallel_calls=AUTOTUNE)\n",
        "val_ds = val_ds.map(lambda x, y: (resize_and_rescale(x), y), num_parallel_calls=AUTOTUNE)\n",
        "\n",
        "image_batch, labels_batch = next(iter(train_ds))\n",
        "first_image = image_batch[0]\n",
        "\n",
        "print(\"Length of Batch Train Data After Augumenting:\",len(train_ds))\n",
        "print(\"Minimum pixel Value:\",np.min(first_image),\"Maximum Pixel Value:\", np.max(first_image))"
      ],
      "execution_count": null,
      "outputs": [
        {
          "name": "stdout",
          "output_type": "stream",
          "text": [
            "Length of Batch Train Data After Augumenting: 1875\n",
            "Minimum pixel Value: 0.0 Maximum Pixel Value: 1.0\n"
          ]
        }
      ]
    },
    {
      "cell_type": "markdown",
      "metadata": {
        "id": "UPCg35R95-mF"
      },
      "source": [
        "## **Task 4:** Configuring Dataset For Performance (ETL Pipelines)"
      ]
    },
    {
      "cell_type": "code",
      "metadata": {
        "id": "w_5iQNe-yL4F"
      },
      "source": [
        "train_ds = train_ds.cache().prefetch(buffer_size=AUTOTUNE) ##  Cache and Prefetching\n",
        "val_ds = val_ds.cache().prefetch(buffer_size=AUTOTUNE) ## Using Cache and PreFetching"
      ],
      "execution_count": null,
      "outputs": []
    },
    {
      "cell_type": "markdown",
      "metadata": {
        "id": "UjIOSQoRWhRe"
      },
      "source": [
        "# **Task 5:** Modelling"
      ]
    },
    {
      "cell_type": "code",
      "metadata": {
        "id": "0xttHzUXA090"
      },
      "source": [
        "# tf.keras.callbacks.EarlyStopping(monitor='accuracy', min_delta=0.001,patience=5,mode='auto',verbose=2,baseline=0.98)"
      ],
      "execution_count": null,
      "outputs": []
    },
    {
      "cell_type": "code",
      "metadata": {
        "colab": {
          "base_uri": "https://localhost:8080/"
        },
        "id": "ABex1ZcR5999",
        "outputId": "0193b784-0681-40cf-cdf5-56909dab759b"
      },
      "source": [
        "num_classes = 10\n",
        "\n",
        "model = tf.keras.Sequential([\n",
        "        tf.keras.layers.Conv2D(32, 3, activation='relu'),\n",
        "        tf.keras.layers.MaxPooling2D(),\n",
        "        tf.keras.layers.Conv2D(32, 3, activation='relu'),\n",
        "        tf.keras.layers.MaxPooling2D(),\n",
        "        tf.keras.layers.Conv2D(32, 3, activation='relu'),\n",
        "        tf.keras.layers.MaxPooling2D(),\n",
        "        tf.keras.layers.Flatten(),\n",
        "        tf.keras.layers.Dense(128, activation='relu'),\n",
        "        tf.keras.layers.Dense(num_classes)\n",
        "          ])\n",
        "\n",
        "model.compile(optimizer='adam',loss=tf.keras.losses.SparseCategoricalCrossentropy(from_logits=True),\n",
        "    metrics=[tf.keras.metrics.SparseCategoricalAccuracy()])\n",
        "\n",
        "history=model.fit(train_ds,epochs=6,validation_data=val_ds)"
      ],
      "execution_count": null,
      "outputs": [
        {
          "name": "stdout",
          "output_type": "stream",
          "text": [
            "Epoch 1/6\n",
            "1875/1875 [==============================] - 15s 8ms/step - loss: 0.2594 - sparse_categorical_accuracy: 0.9179 - val_loss: 0.0916 - val_sparse_categorical_accuracy: 0.9732\n",
            "Epoch 2/6\n",
            "1875/1875 [==============================] - 12s 6ms/step - loss: 0.0917 - sparse_categorical_accuracy: 0.9721 - val_loss: 0.0765 - val_sparse_categorical_accuracy: 0.9778\n",
            "Epoch 3/6\n",
            "1875/1875 [==============================] - 12s 6ms/step - loss: 0.0682 - sparse_categorical_accuracy: 0.9794 - val_loss: 0.0690 - val_sparse_categorical_accuracy: 0.9789\n",
            "Epoch 4/6\n",
            "1875/1875 [==============================] - 12s 6ms/step - loss: 0.0540 - sparse_categorical_accuracy: 0.9836 - val_loss: 0.0574 - val_sparse_categorical_accuracy: 0.9829\n",
            "Epoch 5/6\n",
            "1875/1875 [==============================] - 12s 6ms/step - loss: 0.0452 - sparse_categorical_accuracy: 0.9861 - val_loss: 0.0567 - val_sparse_categorical_accuracy: 0.9825\n",
            "Epoch 6/6\n",
            "1875/1875 [==============================] - 12s 6ms/step - loss: 0.0378 - sparse_categorical_accuracy: 0.9882 - val_loss: 0.0553 - val_sparse_categorical_accuracy: 0.9838\n"
          ]
        }
      ]
    },
    {
      "cell_type": "code",
      "metadata": {
        "colab": {
          "base_uri": "https://localhost:8080/",
          "height": 279
        },
        "id": "efCMzlGnockH",
        "outputId": "243d3ebe-f4f5-4179-a303-efa89de130b3"
      },
      "source": [
        "## Visualizing Loss Graph\n",
        "plt.plot(history.history['val_loss'])\n",
        "plt.plot(history.history['loss'])\n",
        "plt.xlabel('Epochs')\n",
        "plt.ylabel('Loss')\n",
        "plt.show()"
      ],
      "execution_count": null,
      "outputs": [
        {
          "data": {
            "image/png": "[encoded data removed]",
            "text/plain": [
              "<Figure size 432x288 with 1 Axes>"
            ]
          },
          "metadata": {},
          "output_type": "display_data"
        }
      ]
    },
    {
      "cell_type": "code",
      "metadata": {
        "colab": {
          "base_uri": "https://localhost:8080/",
          "height": 279
        },
        "id": "k7s4PF-g-47s",
        "outputId": "cb0d5bdf-ba61-4451-d00c-2e52ec1a93cd"
      },
      "source": [
        "## Visualizing Accuracy Graph\n",
        "plt.plot(history.history['sparse_categorical_accuracy'])\n",
        "plt.plot(history.history['val_sparse_categorical_accuracy'])\n",
        "plt.xlabel('Epochs')\n",
        "plt.ylabel('Accuracy')\n",
        "plt.show()"
      ],
      "execution_count": null,
      "outputs": [
        {
          "data": {
            "image/png": "[encoded data removed]",
            "text/plain": [
              "<Figure size 432x288 with 1 Axes>"
            ]
          },
          "metadata": {},
          "output_type": "display_data"
        }
      ]
    },
    {
      "cell_type": "markdown",
      "metadata": {
        "id": "UKeEFUyRBBIV"
      },
      "source": [
        "Model Converging at 3 epochs, Hence 3 epochs is fine for training the model."
      ]
    },
    {
      "cell_type": "markdown",
      "metadata": {
        "id": "gZnxmmkDTczE"
      },
      "source": [
        "# Checking Model Stability and Variation"
      ]
    },
    {
      "cell_type": "code",
      "metadata": {
        "id": "P7AG5Xvafs06"
      },
      "source": [
        "tf.keras.datasets.mnist.load_data(path=\"mnist.npz\")\n",
        "\n",
        "(x_train, y_train), (x_test, y_test) = tf.keras.datasets.mnist.load_data()\n"
      ],
      "execution_count": null,
      "outputs": []
    },
    {
      "cell_type": "code",
      "metadata": {
        "id": "aBOkHMLS9E1_"
      },
      "source": [
        "img_num_channels=1\n",
        "input_shape = (img_width, img_height, img_num_channels)\n",
        "\n",
        "# Parse numbers as floats\n",
        "x_train = x_train.astype('float32')\n",
        "x_test = x_test.astype('float32')\n",
        "\n",
        "# Normalize data\n",
        "x_train = x_train / 255\n",
        "x_test = x_test / 255\n",
        "\n",
        "inputs = np.concatenate((x_train, x_test), axis=0)\n",
        "targets = np.concatenate((y_train, y_test), axis=0)"
      ],
      "execution_count": null,
      "outputs": []
    },
    {
      "cell_type": "code",
      "metadata": {
        "id": "tQzGlD66692B"
      },
      "source": [
        "from sklearn.model_selection import StratifiedKFold\n",
        "\n",
        "skf = StratifiedKFold(n_splits = 10, random_state = 7, shuffle = True) \n"
      ],
      "execution_count": null,
      "outputs": []
    },
    {
      "cell_type": "code",
      "metadata": {
        "colab": {
          "background_save": true,
          "base_uri": "https://localhost:8080/"
        },
        "id": "Vn-hEEXT4Wh9",
        "outputId": "9feb0ff8-4341-487d-f34e-42fc2303b3a9"
      },
      "source": [
        "acc_per_fold=[]\n",
        "loss_per_fold=[]\n",
        "\n",
        "# K-fold Cross Validation model evaluation\n",
        "fold_no = 1\n",
        "for train, test in skf.split(inputs, targets):\n",
        "\n",
        "  model = tf.keras.Sequential([\n",
        "        tf.keras.layers.Conv2D(32, 3, activation='relu', input_shape=input_shape),\n",
        "        tf.keras.layers.MaxPooling2D(),\n",
        "        tf.keras.layers.Conv2D(32, 3, activation='relu'),\n",
        "        tf.keras.layers.MaxPooling2D(),\n",
        "        tf.keras.layers.Conv2D(32, 3, activation='relu'),\n",
        "        tf.keras.layers.MaxPooling2D(),\n",
        "        tf.keras.layers.Flatten(),\n",
        "        tf.keras.layers.Dense(128, activation='relu'),\n",
        "        tf.keras.layers.Dense(num_classes)\n",
        "          ])\n",
        "\n",
        "  # Compile the model\n",
        "  model.compile(optimizer='adam',loss=tf.keras.losses.SparseCategoricalCrossentropy(from_logits=True),metrics=[tf.keras.metrics.SparseCategoricalAccuracy()])\n",
        "\n",
        "  history=model.fit(inputs[train], targets[train],epochs=6)\n",
        "\n",
        "  print('------------------------------------------------------------------------')\n",
        "  print(f'Training for fold {fold_no} ...')\n",
        "\n",
        "  scores = model.evaluate(inputs[test], targets[test], verbose=0)\n",
        "  print(f'Score for fold {fold_no}: {model.metrics_names[0]} of {scores[0]}; {model.metrics_names[1]} of {scores[1]*100}%')\n",
        "  acc_per_fold.append(scores[1] * 100)\n",
        "  loss_per_fold.append(scores[0])\n",
        "\n",
        "  fold_no = fold_no + 1"
      ],
      "execution_count": null,
      "outputs": [
        {
          "name": "stdout",
          "output_type": "stream",
          "text": [
            "Epoch 1/6\n",
            "1875/1875 [==============================] - 50s 27ms/step - loss: 0.2693 - sparse_categorical_accuracy: 0.9166 - val_loss: 0.0992 - val_sparse_categorical_accuracy: 0.9699\n",
            "Epoch 2/6\n",
            "1875/1875 [==============================] - 52s 28ms/step - loss: 0.0955 - sparse_categorical_accuracy: 0.9705 - val_loss: 0.0716 - val_sparse_categorical_accuracy: 0.9787\n",
            "Epoch 3/6\n",
            "1875/1875 [==============================] - 51s 27ms/step - loss: 0.0708 - sparse_categorical_accuracy: 0.9781 - val_loss: 0.0635 - val_sparse_categorical_accuracy: 0.9799\n",
            "Epoch 4/6\n",
            "1875/1875 [==============================] - 50s 27ms/step - loss: 0.0557 - sparse_categorical_accuracy: 0.9828 - val_loss: 0.0630 - val_sparse_categorical_accuracy: 0.9809\n",
            "Epoch 5/6\n",
            "1875/1875 [==============================] - 51s 27ms/step - loss: 0.0460 - sparse_categorical_accuracy: 0.9859 - val_loss: 0.0601 - val_sparse_categorical_accuracy: 0.9826\n",
            "Epoch 6/6\n",
            "1875/1875 [==============================] - 51s 27ms/step - loss: 0.0384 - sparse_categorical_accuracy: 0.9885 - val_loss: 0.0545 - val_sparse_categorical_accuracy: 0.9837\n",
            "------------------------------------------------------------------------\n",
            "Training for fold 1 ...\n",
            "Score for fold 1: loss of 47.09030532836914; sparse_categorical_accuracy of 93.28571557998657%\n",
            "Epoch 1/6\n",
            "1875/1875 [==============================] - 52s 27ms/step - loss: 0.2674 - sparse_categorical_accuracy: 0.9160 - val_loss: 0.1077 - val_sparse_categorical_accuracy: 0.9687\n",
            "Epoch 2/6\n",
            "1875/1875 [==============================] - 51s 27ms/step - loss: 0.0967 - sparse_categorical_accuracy: 0.9700 - val_loss: 0.0754 - val_sparse_categorical_accuracy: 0.9769\n",
            "Epoch 3/6\n",
            "1875/1875 [==============================] - 51s 27ms/step - loss: 0.0714 - sparse_categorical_accuracy: 0.9772 - val_loss: 0.0726 - val_sparse_categorical_accuracy: 0.9783\n",
            "Epoch 4/6\n",
            "1875/1875 [==============================] - 51s 27ms/step - loss: 0.0567 - sparse_categorical_accuracy: 0.9829 - val_loss: 0.0709 - val_sparse_categorical_accuracy: 0.9798\n",
            "Epoch 5/6\n",
            "1875/1875 [==============================] - 52s 27ms/step - loss: 0.0458 - sparse_categorical_accuracy: 0.9860 - val_loss: 0.0611 - val_sparse_categorical_accuracy: 0.9811\n",
            "Epoch 6/6\n",
            "1875/1875 [==============================] - 52s 28ms/step - loss: 0.0385 - sparse_categorical_accuracy: 0.9882 - val_loss: 0.0625 - val_sparse_categorical_accuracy: 0.9821\n",
            "------------------------------------------------------------------------\n",
            "Training for fold 2 ...\n",
            "Score for fold 2: loss of 10.124124526977539; sparse_categorical_accuracy of 98.1000006198883%\n",
            "Epoch 1/6\n",
            "1875/1875 [==============================] - 53s 28ms/step - loss: 0.2527 - sparse_categorical_accuracy: 0.9208 - val_loss: 0.0977 - val_sparse_categorical_accuracy: 0.9722\n",
            "Epoch 2/6\n",
            "1875/1875 [==============================] - 52s 28ms/step - loss: 0.0872 - sparse_categorical_accuracy: 0.9736 - val_loss: 0.0826 - val_sparse_categorical_accuracy: 0.9756\n",
            "Epoch 3/6\n",
            "1875/1875 [==============================] - 53s 28ms/step - loss: 0.0640 - sparse_categorical_accuracy: 0.9802 - val_loss: 0.0570 - val_sparse_categorical_accuracy: 0.9838\n",
            "Epoch 4/6\n",
            "1875/1875 [==============================] - 53s 28ms/step - loss: 0.0512 - sparse_categorical_accuracy: 0.9846 - val_loss: 0.0548 - val_sparse_categorical_accuracy: 0.9848\n",
            "Epoch 5/6\n",
            "1875/1875 [==============================] - 52s 28ms/step - loss: 0.0424 - sparse_categorical_accuracy: 0.9867 - val_loss: 0.0566 - val_sparse_categorical_accuracy: 0.9849\n",
            "Epoch 6/6\n",
            "1875/1875 [==============================] - 50s 27ms/step - loss: 0.0350 - sparse_categorical_accuracy: 0.9893 - val_loss: 0.0599 - val_sparse_categorical_accuracy: 0.9841\n",
            "------------------------------------------------------------------------\n",
            "Training for fold 3 ...\n",
            "Score for fold 3: loss of 53.415164947509766; sparse_categorical_accuracy of 93.51428747177124%\n",
            "Epoch 1/6\n",
            "1875/1875 [==============================] - 51s 27ms/step - loss: 0.2628 - sparse_categorical_accuracy: 0.9166 - val_loss: 0.0971 - val_sparse_categorical_accuracy: 0.9718\n",
            "Epoch 2/6\n",
            "1875/1875 [==============================] - 49s 26ms/step - loss: 0.0908 - sparse_categorical_accuracy: 0.9721 - val_loss: 0.0817 - val_sparse_categorical_accuracy: 0.9762\n",
            "Epoch 3/6\n",
            "1875/1875 [==============================] - 49s 26ms/step - loss: 0.0670 - sparse_categorical_accuracy: 0.9797 - val_loss: 0.0631 - val_sparse_categorical_accuracy: 0.9810\n",
            "Epoch 4/6\n",
            "1875/1875 [==============================] - 50s 26ms/step - loss: 0.0543 - sparse_categorical_accuracy: 0.9829 - val_loss: 0.0629 - val_sparse_categorical_accuracy: 0.9815\n",
            "Epoch 5/6\n",
            "1875/1875 [==============================] - 50s 27ms/step - loss: 0.0443 - sparse_categorical_accuracy: 0.9866 - val_loss: 0.0621 - val_sparse_categorical_accuracy: 0.9824\n",
            "Epoch 6/6\n",
            "1875/1875 [==============================] - 50s 27ms/step - loss: 0.0378 - sparse_categorical_accuracy: 0.9884 - val_loss: 0.0575 - val_sparse_categorical_accuracy: 0.9840\n",
            "------------------------------------------------------------------------\n",
            "Training for fold 4 ...\n",
            "Score for fold 4: loss of 33.04404067993164; sparse_categorical_accuracy of 95.58571577072144%\n",
            "Epoch 1/6\n",
            "1875/1875 [==============================] - 52s 28ms/step - loss: 0.2569 - sparse_categorical_accuracy: 0.9199 - val_loss: 0.0913 - val_sparse_categorical_accuracy: 0.9730\n",
            "Epoch 2/6\n",
            "1875/1875 [==============================] - 50s 27ms/step - loss: 0.0925 - sparse_categorical_accuracy: 0.9713 - val_loss: 0.0823 - val_sparse_categorical_accuracy: 0.9761\n",
            "Epoch 3/6\n",
            "1875/1875 [==============================] - 50s 27ms/step - loss: 0.0687 - sparse_categorical_accuracy: 0.9785 - val_loss: 0.0762 - val_sparse_categorical_accuracy: 0.9770\n",
            "Epoch 4/6\n",
            "1875/1875 [==============================] - 50s 27ms/step - loss: 0.0544 - sparse_categorical_accuracy: 0.9831 - val_loss: 0.0706 - val_sparse_categorical_accuracy: 0.9788\n",
            "Epoch 5/6\n",
            "1875/1875 [==============================] - 50s 27ms/step - loss: 0.0440 - sparse_categorical_accuracy: 0.9862 - val_loss: 0.0656 - val_sparse_categorical_accuracy: 0.9806\n",
            "Epoch 6/6\n",
            "1875/1875 [==============================] - 49s 26ms/step - loss: 0.0367 - sparse_categorical_accuracy: 0.9888 - val_loss: 0.0626 - val_sparse_categorical_accuracy: 0.9812\n",
            "------------------------------------------------------------------------\n",
            "Training for fold 5 ...\n",
            "Score for fold 5: loss of 76.592041015625; sparse_categorical_accuracy of 88.64285945892334%\n",
            "Epoch 1/6\n",
            "1875/1875 [==============================] - 52s 27ms/step - loss: 0.2575 - sparse_categorical_accuracy: 0.9187 - val_loss: 0.1082 - val_sparse_categorical_accuracy: 0.9669\n",
            "Epoch 2/6\n",
            "1875/1875 [==============================] - 51s 27ms/step - loss: 0.0962 - sparse_categorical_accuracy: 0.9705 - val_loss: 0.0955 - val_sparse_categorical_accuracy: 0.9715\n",
            "Epoch 3/6\n",
            "1875/1875 [==============================] - 51s 27ms/step - loss: 0.0709 - sparse_categorical_accuracy: 0.9777 - val_loss: 0.0709 - val_sparse_categorical_accuracy: 0.9797\n",
            "Epoch 4/6\n",
            "1875/1875 [==============================] - 51s 27ms/step - loss: 0.0558 - sparse_categorical_accuracy: 0.9826 - val_loss: 0.0696 - val_sparse_categorical_accuracy: 0.9804\n",
            "Epoch 5/6\n",
            "1875/1875 [==============================] - 51s 27ms/step - loss: 0.0460 - sparse_categorical_accuracy: 0.9855 - val_loss: 0.0642 - val_sparse_categorical_accuracy: 0.9810\n",
            "Epoch 6/6\n",
            "1875/1875 [==============================] - 50s 27ms/step - loss: 0.0382 - sparse_categorical_accuracy: 0.9883 - val_loss: 0.0765 - val_sparse_categorical_accuracy: 0.9785\n",
            "------------------------------------------------------------------------\n",
            "Training for fold 6 ...\n",
            "Score for fold 6: loss of 32.58501052856445; sparse_categorical_accuracy of 94.87142562866211%\n",
            "Epoch 1/6\n",
            "1875/1875 [==============================] - 51s 27ms/step - loss: 0.2687 - sparse_categorical_accuracy: 0.9170 - val_loss: 0.1014 - val_sparse_categorical_accuracy: 0.9692\n",
            "Epoch 2/6\n",
            "1875/1875 [==============================] - 51s 27ms/step - loss: 0.0911 - sparse_categorical_accuracy: 0.9718 - val_loss: 0.0954 - val_sparse_categorical_accuracy: 0.9702\n",
            "Epoch 3/6\n",
            "1875/1875 [==============================] - 49s 26ms/step - loss: 0.0682 - sparse_categorical_accuracy: 0.9792 - val_loss: 0.0922 - val_sparse_categorical_accuracy: 0.9725\n",
            "Epoch 4/6\n",
            "1875/1875 [==============================] - 47s 25ms/step - loss: 0.0556 - sparse_categorical_accuracy: 0.9830 - val_loss: 0.0699 - val_sparse_categorical_accuracy: 0.9787\n",
            "Epoch 5/6\n",
            "1875/1875 [==============================] - 48s 25ms/step - loss: 0.0455 - sparse_categorical_accuracy: 0.9858 - val_loss: 0.0640 - val_sparse_categorical_accuracy: 0.9811\n",
            "Epoch 6/6\n",
            "1875/1875 [==============================] - 47s 25ms/step - loss: 0.0377 - sparse_categorical_accuracy: 0.9878 - val_loss: 0.0754 - val_sparse_categorical_accuracy: 0.9785\n",
            "------------------------------------------------------------------------\n",
            "Training for fold 7 ...\n",
            "Score for fold 7: loss of 35.346038818359375; sparse_categorical_accuracy of 94.90000009536743%\n",
            "Epoch 1/6\n",
            "1875/1875 [==============================] - 50s 26ms/step - loss: 0.2687 - sparse_categorical_accuracy: 0.9151 - val_loss: 0.0969 - val_sparse_categorical_accuracy: 0.9711\n",
            "Epoch 2/6\n",
            "1875/1875 [==============================] - 49s 26ms/step - loss: 0.0956 - sparse_categorical_accuracy: 0.9709 - val_loss: 0.0746 - val_sparse_categorical_accuracy: 0.9776\n",
            "Epoch 3/6\n",
            "1875/1875 [==============================] - 49s 26ms/step - loss: 0.0702 - sparse_categorical_accuracy: 0.9782 - val_loss: 0.0620 - val_sparse_categorical_accuracy: 0.9808\n",
            "Epoch 4/6\n",
            "1875/1875 [==============================] - 50s 27ms/step - loss: 0.0566 - sparse_categorical_accuracy: 0.9824 - val_loss: 0.0516 - val_sparse_categorical_accuracy: 0.9838\n",
            "Epoch 5/6\n",
            "1875/1875 [==============================] - 50s 27ms/step - loss: 0.0470 - sparse_categorical_accuracy: 0.9857 - val_loss: 0.0538 - val_sparse_categorical_accuracy: 0.9831\n",
            "Epoch 6/6\n",
            "1875/1875 [==============================] - 51s 27ms/step - loss: 0.0396 - sparse_categorical_accuracy: 0.9878 - val_loss: 0.0495 - val_sparse_categorical_accuracy: 0.9845\n",
            "------------------------------------------------------------------------\n",
            "Training for fold 8 ...\n",
            "Score for fold 8: loss of 16.36767578125; sparse_categorical_accuracy of 97.57142663002014%\n",
            "Epoch 1/6\n",
            "1875/1875 [==============================] - 51s 27ms/step - loss: 0.2630 - sparse_categorical_accuracy: 0.9161 - val_loss: 0.0950 - val_sparse_categorical_accuracy: 0.9707\n",
            "Epoch 2/6\n",
            "1875/1875 [==============================] - 51s 27ms/step - loss: 0.0932 - sparse_categorical_accuracy: 0.9716 - val_loss: 0.0674 - val_sparse_categorical_accuracy: 0.9812\n",
            "Epoch 3/6\n",
            "1875/1875 [==============================] - 49s 26ms/step - loss: 0.0693 - sparse_categorical_accuracy: 0.9785 - val_loss: 0.0627 - val_sparse_categorical_accuracy: 0.9825\n",
            "Epoch 4/6\n",
            "1875/1875 [==============================] - 51s 27ms/step - loss: 0.0551 - sparse_categorical_accuracy: 0.9835 - val_loss: 0.0595 - val_sparse_categorical_accuracy: 0.9834\n",
            "Epoch 5/6\n",
            "1875/1875 [==============================] - 51s 27ms/step - loss: 0.0447 - sparse_categorical_accuracy: 0.9865 - val_loss: 0.0608 - val_sparse_categorical_accuracy: 0.9833\n",
            "Epoch 6/6\n",
            "1875/1875 [==============================] - 50s 27ms/step - loss: 0.0379 - sparse_categorical_accuracy: 0.9884 - val_loss: 0.0552 - val_sparse_categorical_accuracy: 0.9858\n",
            "------------------------------------------------------------------------\n",
            "Training for fold 9 ...\n",
            "Score for fold 9: loss of 20.128767013549805; sparse_categorical_accuracy of 96.98571562767029%\n",
            "Epoch 1/6\n",
            "1875/1875 [==============================] - 51s 27ms/step - loss: 0.2653 - sparse_categorical_accuracy: 0.9159 - val_loss: 0.1024 - val_sparse_categorical_accuracy: 0.9683\n",
            "Epoch 2/6\n",
            "1875/1875 [==============================] - 51s 27ms/step - loss: 0.0998 - sparse_categorical_accuracy: 0.9701 - val_loss: 0.0759 - val_sparse_categorical_accuracy: 0.9785\n",
            "Epoch 3/6\n",
            "1875/1875 [==============================] - 50s 27ms/step - loss: 0.0751 - sparse_categorical_accuracy: 0.9773 - val_loss: 0.0739 - val_sparse_categorical_accuracy: 0.9771\n",
            "Epoch 4/6\n",
            "1875/1875 [==============================] - 49s 26ms/step - loss: 0.0605 - sparse_categorical_accuracy: 0.9816 - val_loss: 0.0631 - val_sparse_categorical_accuracy: 0.9799\n",
            "Epoch 5/6\n",
            "1875/1875 [==============================] - 49s 26ms/step - loss: 0.0506 - sparse_categorical_accuracy: 0.9849 - val_loss: 0.0618 - val_sparse_categorical_accuracy: 0.9812\n",
            "Epoch 6/6\n",
            "1875/1875 [==============================] - 48s 26ms/step - loss: 0.0414 - sparse_categorical_accuracy: 0.9875 - val_loss: 0.0579 - val_sparse_categorical_accuracy: 0.9834\n",
            "------------------------------------------------------------------------\n",
            "Training for fold 10 ...\n",
            "Score for fold 10: loss of 32.92562484741211; sparse_categorical_accuracy of 95.1714277267456%\n"
          ]
        }
      ]
    },
    {
      "cell_type": "code",
      "metadata": {
        "colab": {
          "base_uri": "https://localhost:8080/"
        },
        "id": "4Tv_hP5ycQBX",
        "outputId": "6a4f1b51-7eca-40d3-87d8-c44ab0d6b9d3"
      },
      "source": [
        "print(\"Mean accuracy:\",np.mean(acc_per_fold))\n",
        "print(\"Standard Deviation of model:\",np.std(acc_per_fold))"
      ],
      "execution_count": 119,
      "outputs": [
        {
          "output_type": "stream",
          "name": "stdout",
          "text": [
            "Mean accuracy: 98.26142907142639\n",
            "Standard Deviation of model: 0.2989130106573498\n"
          ]
        }
      ]
    },
    {
      "cell_type": "code",
      "metadata": {
        "id": "wycVIc46G-p2",
        "colab": {
          "base_uri": "https://localhost:8080/"
        },
        "outputId": "b2577951-5196-447c-f78f-ac8022c4239f"
      },
      "source": [
        "print(\"Mean Loss:\",np.mean(loss_per_fold))\n",
        "print(\"Standard Deviation(Loss) of model:\",np.std(loss_per_fold))"
      ],
      "execution_count": 120,
      "outputs": [
        {
          "output_type": "stream",
          "name": "stdout",
          "text": [
            "Mean Loss: 0.056753528863191606\n",
            "Standard Deviation(Loss) of model: 0.009988467961323499\n"
          ]
        }
      ]
    },
    {
      "cell_type": "code",
      "metadata": {
        "id": "Wjl1zpPJHXwQ"
      },
      "source": [
        ""
      ],
      "execution_count": null,
      "outputs": []
    }
  ]
}